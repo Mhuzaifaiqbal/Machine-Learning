{
 "cells": [
  {
   "cell_type": "code",
   "execution_count": 1,
   "id": "d718e8d9",
   "metadata": {},
   "outputs": [],
   "source": [
    "import pandas as pd\n",
    "import numpy as np\n",
    "from sklearn.impute import SimpleImputer\n",
    "import matplotlib.pyplot as plt\n",
    "import seaborn as sns\n",
    "from imblearn.pipeline import Pipeline\n",
    "from sklearn.model_selection import StratifiedShuffleSplit,cross_val_score\n",
    "from imblearn.over_sampling import SMOTE\n",
    "from sklearn.preprocessing import RobustScaler\n",
    "from sklearn.preprocessing import LabelEncoder\n",
    "from sklearn.linear_model import LogisticRegression\n",
    "from sklearn.metrics import  accuracy_score\n",
    "from xgboost import XGBClassifier\n",
    "from sklearn.tree import DecisionTreeClassifier\n",
    "from sklearn.metrics import classification_report\n",
    "from sklearn.ensemble import RandomForestClassifier\n",
    "    "
   ]
  },
  {
   "cell_type": "code",
   "execution_count": 2,
   "id": "3fedb0b6",
   "metadata": {},
   "outputs": [
    {
     "data": {
      "text/html": [
       "<div>\n",
       "<style scoped>\n",
       "    .dataframe tbody tr th:only-of-type {\n",
       "        vertical-align: middle;\n",
       "    }\n",
       "\n",
       "    .dataframe tbody tr th {\n",
       "        vertical-align: top;\n",
       "    }\n",
       "\n",
       "    .dataframe thead th {\n",
       "        text-align: right;\n",
       "    }\n",
       "</style>\n",
       "<table border=\"1\" class=\"dataframe\">\n",
       "  <thead>\n",
       "    <tr style=\"text-align: right;\">\n",
       "      <th></th>\n",
       "      <th>Loan_ID</th>\n",
       "      <th>Gender</th>\n",
       "      <th>Married</th>\n",
       "      <th>Dependents</th>\n",
       "      <th>Education</th>\n",
       "      <th>Self_Employed</th>\n",
       "      <th>ApplicantIncome</th>\n",
       "      <th>CoapplicantIncome</th>\n",
       "      <th>LoanAmount</th>\n",
       "      <th>Loan_Amount_Term</th>\n",
       "      <th>Credit_History</th>\n",
       "      <th>Property_Area</th>\n",
       "      <th>Loan_Status</th>\n",
       "    </tr>\n",
       "  </thead>\n",
       "  <tbody>\n",
       "    <tr>\n",
       "      <th>0</th>\n",
       "      <td>LP001002</td>\n",
       "      <td>Male</td>\n",
       "      <td>No</td>\n",
       "      <td>0</td>\n",
       "      <td>Graduate</td>\n",
       "      <td>No</td>\n",
       "      <td>5849</td>\n",
       "      <td>0.0</td>\n",
       "      <td>NaN</td>\n",
       "      <td>360.0</td>\n",
       "      <td>1.0</td>\n",
       "      <td>Urban</td>\n",
       "      <td>Y</td>\n",
       "    </tr>\n",
       "    <tr>\n",
       "      <th>1</th>\n",
       "      <td>LP001003</td>\n",
       "      <td>Male</td>\n",
       "      <td>Yes</td>\n",
       "      <td>1</td>\n",
       "      <td>Graduate</td>\n",
       "      <td>No</td>\n",
       "      <td>4583</td>\n",
       "      <td>1508.0</td>\n",
       "      <td>128.0</td>\n",
       "      <td>360.0</td>\n",
       "      <td>1.0</td>\n",
       "      <td>Rural</td>\n",
       "      <td>N</td>\n",
       "    </tr>\n",
       "    <tr>\n",
       "      <th>2</th>\n",
       "      <td>LP001005</td>\n",
       "      <td>Male</td>\n",
       "      <td>Yes</td>\n",
       "      <td>0</td>\n",
       "      <td>Graduate</td>\n",
       "      <td>Yes</td>\n",
       "      <td>3000</td>\n",
       "      <td>0.0</td>\n",
       "      <td>66.0</td>\n",
       "      <td>360.0</td>\n",
       "      <td>1.0</td>\n",
       "      <td>Urban</td>\n",
       "      <td>Y</td>\n",
       "    </tr>\n",
       "    <tr>\n",
       "      <th>3</th>\n",
       "      <td>LP001006</td>\n",
       "      <td>Male</td>\n",
       "      <td>Yes</td>\n",
       "      <td>0</td>\n",
       "      <td>Not Graduate</td>\n",
       "      <td>No</td>\n",
       "      <td>2583</td>\n",
       "      <td>2358.0</td>\n",
       "      <td>120.0</td>\n",
       "      <td>360.0</td>\n",
       "      <td>1.0</td>\n",
       "      <td>Urban</td>\n",
       "      <td>Y</td>\n",
       "    </tr>\n",
       "    <tr>\n",
       "      <th>4</th>\n",
       "      <td>LP001008</td>\n",
       "      <td>Male</td>\n",
       "      <td>No</td>\n",
       "      <td>0</td>\n",
       "      <td>Graduate</td>\n",
       "      <td>No</td>\n",
       "      <td>6000</td>\n",
       "      <td>0.0</td>\n",
       "      <td>141.0</td>\n",
       "      <td>360.0</td>\n",
       "      <td>1.0</td>\n",
       "      <td>Urban</td>\n",
       "      <td>Y</td>\n",
       "    </tr>\n",
       "  </tbody>\n",
       "</table>\n",
       "</div>"
      ],
      "text/plain": [
       "    Loan_ID Gender Married Dependents     Education Self_Employed  \\\n",
       "0  LP001002   Male      No          0      Graduate            No   \n",
       "1  LP001003   Male     Yes          1      Graduate            No   \n",
       "2  LP001005   Male     Yes          0      Graduate           Yes   \n",
       "3  LP001006   Male     Yes          0  Not Graduate            No   \n",
       "4  LP001008   Male      No          0      Graduate            No   \n",
       "\n",
       "   ApplicantIncome  CoapplicantIncome  LoanAmount  Loan_Amount_Term  \\\n",
       "0             5849                0.0         NaN             360.0   \n",
       "1             4583             1508.0       128.0             360.0   \n",
       "2             3000                0.0        66.0             360.0   \n",
       "3             2583             2358.0       120.0             360.0   \n",
       "4             6000                0.0       141.0             360.0   \n",
       "\n",
       "   Credit_History Property_Area Loan_Status  \n",
       "0             1.0         Urban           Y  \n",
       "1             1.0         Rural           N  \n",
       "2             1.0         Urban           Y  \n",
       "3             1.0         Urban           Y  \n",
       "4             1.0         Urban           Y  "
      ]
     },
     "execution_count": 2,
     "metadata": {},
     "output_type": "execute_result"
    }
   ],
   "source": [
    "Og_df=pd.read_csv(r'C:\\Users\\mhuza\\Desktop\\MINI-Projects-ML\\Driectory\\loan_data_set.csv')\n",
    "Og_df.head()\n"
   ]
  },
  {
   "cell_type": "markdown",
   "id": "e3488f59",
   "metadata": {},
   "source": []
  },
  {
   "cell_type": "code",
   "execution_count": 3,
   "id": "8f218aee",
   "metadata": {},
   "outputs": [
    {
     "data": {
      "text/plain": [
       "Loan_ID               0\n",
       "Gender               13\n",
       "Married               3\n",
       "Dependents           15\n",
       "Education             0\n",
       "Self_Employed        32\n",
       "ApplicantIncome       0\n",
       "CoapplicantIncome     0\n",
       "LoanAmount           22\n",
       "Loan_Amount_Term     14\n",
       "Credit_History       50\n",
       "Property_Area         0\n",
       "Loan_Status           0\n",
       "dtype: int64"
      ]
     },
     "execution_count": 3,
     "metadata": {},
     "output_type": "execute_result"
    }
   ],
   "source": [
    "Og_df.isnull().sum()\n",
    "# data is small and dropping NaN values would mean not enogh data to train our model effectively for unseen datasets\n",
    "# so using modes for datasets seems like a viable option"
   ]
  },
  {
   "cell_type": "code",
   "execution_count": 4,
   "id": "973711be",
   "metadata": {},
   "outputs": [
    {
     "data": {
      "text/plain": [
       "Loan_ID              0\n",
       "Gender               0\n",
       "Married              0\n",
       "Dependents           0\n",
       "Education            0\n",
       "Self_Employed        0\n",
       "ApplicantIncome      0\n",
       "CoapplicantIncome    0\n",
       "LoanAmount           0\n",
       "Loan_Amount_Term     0\n",
       "Credit_History       0\n",
       "Property_Area        0\n",
       "Loan_Status          0\n",
       "dtype: int64"
      ]
     },
     "execution_count": 4,
     "metadata": {},
     "output_type": "execute_result"
    }
   ],
   "source": [
    "# we will use simple mode_imputer in one for categorial features or features that have a low variance like dependents\n",
    "#we will use mean for those features that have a large difference like the loan amount\n",
    "mode_imputer=SimpleImputer(strategy='most_frequent')\n",
    "mean_imputer=SimpleImputer(strategy=\"mean\")\n",
    "Og_df[['Gender','Married','Dependents','Self_Employed','Credit_History','Loan_Amount_Term']]=mode_imputer.fit_transform(Og_df[['Gender','Married','Dependents','Self_Employed','Credit_History','Loan_Amount_Term']])\n",
    "Og_df['LoanAmount']=mean_imputer.fit_transform(Og_df[['LoanAmount']])\n",
    "Og_df.isnull().sum()"
   ]
  },
  {
   "cell_type": "code",
   "execution_count": 5,
   "id": "2a887bce",
   "metadata": {},
   "outputs": [
    {
     "data": {
      "image/png": "[encoded data removed]",
      "text/plain": [
       "<Figure size 200x200 with 1 Axes>"
      ]
     },
     "metadata": {},
     "output_type": "display_data"
    },
    {
     "data": {
      "image/png": "[encoded data removed]",
      "text/plain": [
       "<Figure size 640x480 with 1 Axes>"
      ]
     },
     "metadata": {},
     "output_type": "display_data"
    },
    {
     "data": {
      "image/png": "[encoded data removed]",
      "text/plain": [
       "<Figure size 200x200 with 1 Axes>"
      ]
     },
     "metadata": {},
     "output_type": "display_data"
    },
    {
     "data": {
      "image/png": "[encoded data removed]",
      "text/plain": [
       "<Figure size 640x480 with 1 Axes>"
      ]
     },
     "metadata": {},
     "output_type": "display_data"
    },
    {
     "data": {
      "image/png": "[encoded data removed]",
      "text/plain": [
       "<Figure size 200x200 with 1 Axes>"
      ]
     },
     "metadata": {},
     "output_type": "display_data"
    },
    {
     "data": {
      "image/png": "[encoded data removed]",
      "text/plain": [
       "<Figure size 640x480 with 1 Axes>"
      ]
     },
     "metadata": {},
     "output_type": "display_data"
    }
   ],
   "source": [
    "\n",
    "numerical_cols=Og_df.select_dtypes(include=\"number\")\n",
    "for cols in numerical_cols:\n",
    "    plt.figure(figsize=(2,2))\n",
    "    sns.boxplot(x='Loan_Status',y=cols,data=Og_df)\n",
    "    plt.tight_layout()\n",
    "    plt.show()\n",
    "    Og_df[cols].hist(bins=30)\n",
    "    plt.title(\"Histogram of LoanAmount\")\n",
    "    plt.xlabel(\"Loan Amount\")\n",
    "    plt.ylabel(\"Frequency\")\n",
    "    plt.show()\n",
    "#the purpose for visualizing using boxplot was to actually see potential outliers\n",
    "#now its absolutlety normal if there is a huge difference in the income levels or other features of loan seekers]\n",
    "#but my main concern was to look for anomolies that could ruin my model prediction\n",
    "#for that i used histograms"
   ]
  },
  {
   "cell_type": "code",
   "execution_count": 6,
   "id": "3a4881b1",
   "metadata": {},
   "outputs": [
    {
     "data": {
      "text/plain": [
       "<Axes: xlabel='Loan_Status', ylabel='count'>"
      ]
     },
     "execution_count": 6,
     "metadata": {},
     "output_type": "execute_result"
    },
    {
     "data": {
      "image/png": "[encoded data removed]",
      "text/plain": [
       "<Figure size 640x480 with 1 Axes>"
      ]
     },
     "metadata": {},
     "output_type": "display_data"
    }
   ],
   "source": [
    "sns.countplot(x='Loan_Status',data=Og_df)"
   ]
  },
  {
   "cell_type": "code",
   "execution_count": 7,
   "id": "614ae5b0",
   "metadata": {},
   "outputs": [
    {
     "data": {
      "text/html": [
       "<div>\n",
       "<style scoped>\n",
       "    .dataframe tbody tr th:only-of-type {\n",
       "        vertical-align: middle;\n",
       "    }\n",
       "\n",
       "    .dataframe tbody tr th {\n",
       "        vertical-align: top;\n",
       "    }\n",
       "\n",
       "    .dataframe thead th {\n",
       "        text-align: right;\n",
       "    }\n",
       "</style>\n",
       "<table border=\"1\" class=\"dataframe\">\n",
       "  <thead>\n",
       "    <tr style=\"text-align: right;\">\n",
       "      <th></th>\n",
       "      <th>Loan_ID</th>\n",
       "      <th>Gender</th>\n",
       "      <th>Married</th>\n",
       "      <th>Dependents</th>\n",
       "      <th>Education</th>\n",
       "      <th>Self_Employed</th>\n",
       "      <th>ApplicantIncome</th>\n",
       "      <th>CoapplicantIncome</th>\n",
       "      <th>LoanAmount</th>\n",
       "      <th>Loan_Amount_Term</th>\n",
       "      <th>Credit_History</th>\n",
       "      <th>Property_Area</th>\n",
       "      <th>Loan_Status</th>\n",
       "    </tr>\n",
       "  </thead>\n",
       "  <tbody>\n",
       "    <tr>\n",
       "      <th>0</th>\n",
       "      <td>LP001002</td>\n",
       "      <td>Male</td>\n",
       "      <td>No</td>\n",
       "      <td>0</td>\n",
       "      <td>Graduate</td>\n",
       "      <td>No</td>\n",
       "      <td>5849</td>\n",
       "      <td>0.0</td>\n",
       "      <td>146.412162</td>\n",
       "      <td>360.0</td>\n",
       "      <td>1.0</td>\n",
       "      <td>Urban</td>\n",
       "      <td>Y</td>\n",
       "    </tr>\n",
       "    <tr>\n",
       "      <th>1</th>\n",
       "      <td>LP001003</td>\n",
       "      <td>Male</td>\n",
       "      <td>Yes</td>\n",
       "      <td>1</td>\n",
       "      <td>Graduate</td>\n",
       "      <td>No</td>\n",
       "      <td>4583</td>\n",
       "      <td>1508.0</td>\n",
       "      <td>128.000000</td>\n",
       "      <td>360.0</td>\n",
       "      <td>1.0</td>\n",
       "      <td>Rural</td>\n",
       "      <td>N</td>\n",
       "    </tr>\n",
       "    <tr>\n",
       "      <th>2</th>\n",
       "      <td>LP001005</td>\n",
       "      <td>Male</td>\n",
       "      <td>Yes</td>\n",
       "      <td>0</td>\n",
       "      <td>Graduate</td>\n",
       "      <td>Yes</td>\n",
       "      <td>3000</td>\n",
       "      <td>0.0</td>\n",
       "      <td>66.000000</td>\n",
       "      <td>360.0</td>\n",
       "      <td>1.0</td>\n",
       "      <td>Urban</td>\n",
       "      <td>Y</td>\n",
       "    </tr>\n",
       "    <tr>\n",
       "      <th>3</th>\n",
       "      <td>LP001006</td>\n",
       "      <td>Male</td>\n",
       "      <td>Yes</td>\n",
       "      <td>0</td>\n",
       "      <td>Not Graduate</td>\n",
       "      <td>No</td>\n",
       "      <td>2583</td>\n",
       "      <td>2358.0</td>\n",
       "      <td>120.000000</td>\n",
       "      <td>360.0</td>\n",
       "      <td>1.0</td>\n",
       "      <td>Urban</td>\n",
       "      <td>Y</td>\n",
       "    </tr>\n",
       "    <tr>\n",
       "      <th>4</th>\n",
       "      <td>LP001008</td>\n",
       "      <td>Male</td>\n",
       "      <td>No</td>\n",
       "      <td>0</td>\n",
       "      <td>Graduate</td>\n",
       "      <td>No</td>\n",
       "      <td>6000</td>\n",
       "      <td>0.0</td>\n",
       "      <td>141.000000</td>\n",
       "      <td>360.0</td>\n",
       "      <td>1.0</td>\n",
       "      <td>Urban</td>\n",
       "      <td>Y</td>\n",
       "    </tr>\n",
       "  </tbody>\n",
       "</table>\n",
       "</div>"
      ],
      "text/plain": [
       "    Loan_ID Gender Married Dependents     Education Self_Employed  \\\n",
       "0  LP001002   Male      No          0      Graduate            No   \n",
       "1  LP001003   Male     Yes          1      Graduate            No   \n",
       "2  LP001005   Male     Yes          0      Graduate           Yes   \n",
       "3  LP001006   Male     Yes          0  Not Graduate            No   \n",
       "4  LP001008   Male      No          0      Graduate            No   \n",
       "\n",
       "   ApplicantIncome  CoapplicantIncome  LoanAmount Loan_Amount_Term  \\\n",
       "0             5849                0.0  146.412162            360.0   \n",
       "1             4583             1508.0  128.000000            360.0   \n",
       "2             3000                0.0   66.000000            360.0   \n",
       "3             2583             2358.0  120.000000            360.0   \n",
       "4             6000                0.0  141.000000            360.0   \n",
       "\n",
       "  Credit_History Property_Area Loan_Status  \n",
       "0            1.0         Urban           Y  \n",
       "1            1.0         Rural           N  \n",
       "2            1.0         Urban           Y  \n",
       "3            1.0         Urban           Y  \n",
       "4            1.0         Urban           Y  "
      ]
     },
     "execution_count": 7,
     "metadata": {},
     "output_type": "execute_result"
    }
   ],
   "source": [
    "Og_df.head()"
   ]
  },
  {
   "cell_type": "code",
   "execution_count": 8,
   "id": "02d8ddcc",
   "metadata": {},
   "outputs": [],
   "source": [
    "# lets encode the categorial features using Label encoder-Label encoder assigns integers values to categorial columns\n",
    "#Considering that we hacve dependents in our case we will use Label encoder\n",
    "le=LabelEncoder()\n",
    "Og_df['Dependents']=le.fit_transform(Og_df['Dependents'])\n",
    "Og_df['Self_Employed']=le.fit_transform(Og_df['Self_Employed'])\n",
    "Og_df['Education']=le.fit_transform(Og_df['Education'])\n",
    "Og_df['Gender']=le.fit_transform(Og_df['Gender'])\n",
    "Og_df['Married']=le.fit_transform(Og_df['Married'])\n",
    "Og_df['Loan_Status']=le.fit_transform(Og_df['Loan_Status'])\n",
    "Og_df['Property_Area']=le.fit_transform(Og_df['Property_Area'])"
   ]
  },
  {
   "cell_type": "code",
   "execution_count": 9,
   "id": "0efa03fd",
   "metadata": {},
   "outputs": [
    {
     "data": {
      "text/plain": [
       "0    1\n",
       "1    0\n",
       "2    1\n",
       "3    1\n",
       "4    1\n",
       "Name: Loan_Status, dtype: int64"
      ]
     },
     "execution_count": 9,
     "metadata": {},
     "output_type": "execute_result"
    }
   ],
   "source": [
    "Og_df=Og_df.drop('Loan_ID',axis=1)\n",
    "X=Og_df.drop('Loan_Status',axis=1).copy()\n",
    "y=Og_df['Loan_Status']\n",
    "X.head()\n",
    "y.head()"
   ]
  },
  {
   "cell_type": "code",
   "execution_count": 10,
   "id": "1fd84e7f",
   "metadata": {},
   "outputs": [
    {
     "name": "stdout",
     "output_type": "stream",
     "text": [
      "Logistic Regression CV Accuracy: 75.81% ± 1.21%\n",
      "XGBoost CV Accuracy: 73.85% ± 1.79%\n",
      "Decision tree CV Accuracy: 69.01% ± 1.12%\n",
      "Random CV Accuracy: 76.01% ± 1.82%\n"
     ]
    }
   ],
   "source": [
    "#The classes have almost a 2:1 Ratio, so they are moderately imbalanced\n",
    "#lets create models with and without modifying data to see which performs the best on unseen data and real world\n",
    "#since data is very less, to see which model performs best we would have to create folds and check the accuracy of our model on the unseed data\n",
    "\n",
    "\n",
    "from sklearn.model_selection import StratifiedShuffleSplit\n",
    "sss_for_folds=StratifiedShuffleSplit(n_splits=5,test_size=0.2,random_state=40)\n",
    "# I will be using smote to oversample the data because undersampling will cause data to be lost and since we already have less data to train our model, its not the best option to go by\n",
    "# I will be using pipelines to reduce the amount of code and make it easier to train various models along with using smote \n",
    "#i will be scaling only the training data inside the loop to see how well each model performs\n",
    "#scaling outside the loop can cause data leakages\n",
    "#will be using pipelines in my case \n",
    "\n",
    "\n",
    "xgb_cv_score=[]\n",
    "lr_cv_score=[]\n",
    "dt_cv_score=[]\n",
    "rf_cv_score=[]\n",
    "for train_index, test_index in sss_for_folds.split(X,y):\n",
    "    X_fold_train,x_fold_test=X.iloc[train_index],X.iloc[test_index]\n",
    "    Y_fold_train,y_fold_test=y.iloc[train_index],y.iloc[test_index]\n",
    "\n",
    "    # Logistic regression model\n",
    "    lr_pipeline=Pipeline([\n",
    "        ('scale',RobustScaler()),\n",
    "        ('SMOTE',SMOTE(random_state=40)),\n",
    "        ('lr', LogisticRegression(max_iter=1000))\n",
    "    ])\n",
    "    \n",
    "    lrscore=cross_val_score(lr_pipeline,X_fold_train,Y_fold_train,cv=5,scoring='accuracy')\n",
    "    lr_cv_score.append(lrscore.mean())\n",
    "\n",
    "    # Xgboost model\n",
    "    xgb_pipeline=Pipeline([\n",
    "        ('scale',RobustScaler()),\n",
    "        ('SMOTE',SMOTE(random_state=40)),\n",
    "        (\"xgb\",XGBClassifier(random_state=40))\n",
    "    ])\n",
    "\n",
    "    xgb_score=cross_val_score(xgb_pipeline,X_fold_train,Y_fold_train,cv=5,scoring='accuracy')\n",
    "    xgb_cv_score.append(xgb_score.mean())\n",
    "\n",
    "    dt_pipeline=Pipeline([\n",
    "        ('scale',RobustScaler()),\n",
    "        ('SMOTE',SMOTE(random_state=40)),\n",
    "        ('dt', DecisionTreeClassifier(random_state=40))\n",
    "    ])\n",
    "    dt_score=cross_val_score(dt_pipeline,X_fold_train,Y_fold_train,cv=5,scoring='accuracy')\n",
    "    dt_cv_score.append(dt_score.mean())\n",
    "    \n",
    "    rf_pipeline=Pipeline([\n",
    "        ('scale',RobustScaler()),\n",
    "        ('SMOTE',SMOTE(random_state=40)),\n",
    "        ('rf', RandomForestClassifier(random_state=40))\n",
    "    ])\n",
    "    rf_score=cross_val_score(rf_pipeline,X_fold_train,Y_fold_train,cv=5,scoring='accuracy')\n",
    "    rf_cv_score.append(rf_score.mean())\n",
    "\n",
    "    \n",
    "\n",
    "\n",
    "\n",
    "print(f\"Logistic Regression CV Accuracy: {np.mean(lr_cv_score)*100:.2f}% ± {np.std(lr_cv_score)*100:.2f}%\")\n",
    "print(f\"XGBoost CV Accuracy: {np.mean(xgb_cv_score)*100:.2f}% ± {np.std(xgb_cv_score)*100:.2f}%\")\n",
    "print(f\"Decision tree CV Accuracy: {np.mean(dt_cv_score)*100:.2f}% ± {np.std(dt_cv_score)*100:.2f}%\")\n",
    "print(f\"Random CV Accuracy: {np.mean(rf_cv_score)*100:.2f}% ± {np.std(rf_cv_score)*100:.2f}%\")"
   ]
  },
  {
   "cell_type": "code",
   "execution_count": 11,
   "id": "cb720396",
   "metadata": {},
   "outputs": [
    {
     "name": "stdout",
     "output_type": "stream",
     "text": [
      "              precision    recall  f1-score   support\n",
      "\n",
      "           0       0.57      0.42      0.48        38\n",
      "           1       0.77      0.86      0.81        85\n",
      "\n",
      "    accuracy                           0.72       123\n",
      "   macro avg       0.67      0.64      0.65       123\n",
      "weighted avg       0.71      0.72      0.71       123\n",
      "\n",
      "              precision    recall  f1-score   support\n",
      "\n",
      "           0       0.93      0.37      0.53        38\n",
      "           1       0.78      0.99      0.87        85\n",
      "\n",
      "    accuracy                           0.80       123\n",
      "   macro avg       0.86      0.68      0.70       123\n",
      "weighted avg       0.83      0.80      0.76       123\n",
      "\n",
      "              precision    recall  f1-score   support\n",
      "\n",
      "           0       0.56      0.61      0.58        38\n",
      "           1       0.82      0.79      0.80        85\n",
      "\n",
      "    accuracy                           0.73       123\n",
      "   macro avg       0.69      0.70      0.69       123\n",
      "weighted avg       0.74      0.73      0.73       123\n",
      "\n",
      "              precision    recall  f1-score   support\n",
      "\n",
      "           0       0.78      0.37      0.50        38\n",
      "           1       0.77      0.95      0.85        85\n",
      "\n",
      "    accuracy                           0.77       123\n",
      "   macro avg       0.77      0.66      0.68       123\n",
      "weighted avg       0.77      0.77      0.74       123\n",
      "\n"
     ]
    },
    {
     "name": "stderr",
     "output_type": "stream",
     "text": [
      "c:\\Users\\mhuza\\AppData\\Local\\Programs\\Python\\Python312\\Lib\\site-packages\\sklearn\\linear_model\\_logistic.py:465: ConvergenceWarning: lbfgs failed to converge (status=1):\n",
      "STOP: TOTAL NO. OF ITERATIONS REACHED LIMIT.\n",
      "\n",
      "Increase the number of iterations (max_iter) or scale the data as shown in:\n",
      "    https://scikit-learn.org/stable/modules/preprocessing.html\n",
      "Please also refer to the documentation for alternative solver options:\n",
      "    https://scikit-learn.org/stable/modules/linear_model.html#logistic-regression\n",
      "  n_iter_i = _check_optimize_result(\n"
     ]
    }
   ],
   "source": [
    "sss_1_split=StratifiedShuffleSplit(n_splits=1,test_size=0.2,random_state=40)\n",
    "for col in X.columns:\n",
    "    X[col] = pd.to_numeric(X[col], errors='coerce')  # Converts object columns to float/int, sets bad values to NaN\n",
    "for train_index_2, test_index_2 in sss_1_split.split(X,y):\n",
    "\n",
    "    x_train,x_test=X.iloc[train_index_2],X.iloc[test_index_2]\n",
    "    y_train,y_test=y.iloc[train_index_2],y.iloc[test_index_2]\n",
    "    \n",
    "xgb_model2=XGBClassifier(random_state=40)\n",
    "xgb_model2.fit(x_train,y_train)\n",
    "y_predict=xgb_model2.predict(x_test)\n",
    "print(classification_report(y_test, y_predict))\n",
    "\n",
    "lr_model2=LogisticRegression(random_state=40)\n",
    "lr_model2.fit(x_train,y_train)\n",
    "y_predict=lr_model2.predict(x_test)\n",
    "print(classification_report(y_test, y_predict))\n",
    "\n",
    "dt_model2=DecisionTreeClassifier()\n",
    "dt_model2.fit(x_train,y_train)\n",
    "y_predict=dt_model2.predict(x_test)\n",
    "print(classification_report(y_test, y_predict))\n",
    "\n",
    "rf_model2=RandomForestClassifier()\n",
    "rf_model2.fit(x_train,y_train)\n",
    "y_predict=rf_model2.predict(x_test)\n",
    "print(classification_report(y_test, y_predict))\n"
   ]
  }
 ],
 "metadata": {
  "kernelspec": {
   "display_name": "Python 3",
   "language": "python",
   "name": "python3"
  },
  "language_info": {
   "codemirror_mode": {
    "name": "ipython",
    "version": 3
   },
   "file_extension": ".py",
   "mimetype": "text/x-python",
   "name": "python",
   "nbconvert_exporter": "python",
   "pygments_lexer": "ipython3",
   "version": "3.12.5"
  }
 },
 "nbformat": 4,
 "nbformat_minor": 5
}
